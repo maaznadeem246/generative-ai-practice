{
 "cells": [
  {
   "cell_type": "code",
   "execution_count": 2,
   "metadata": {},
   "outputs": [],
   "source": [
    "from openai import OpenAI\n",
    "# from dotenv import load_dotenv, find_dotenv\n",
    "# import os\n",
    "\n",
    "# _ : bool = load_dotenv(find_dotenv()) # read local .env file\n",
    "\n",
    "client : OpenAI = OpenAI()"
   ]
  },
  {
   "cell_type": "code",
   "execution_count": 5,
   "metadata": {},
   "outputs": [
    {
     "name": "stdout",
     "output_type": "stream",
     "text": [
      "For those seeking a prime location with a mix of commercial and residential amenities, Clifton and Defence are desirable choices in Karachi. These areas offer a reputable standard of living and easy access to various facilities."
     ]
    }
   ],
   "source": [
    "from openai.types.chat.chat_completion import ChatCompletion\n",
    "\n",
    "def chat_completion()->str:\n",
    "  completion : ChatCompletion = client.chat.completions.create(\n",
    "    model  = \"gpt-3.5-turbo-1106\",\n",
    "    messages= [\n",
    "      {\"role\": \"system\", \"content\": \"You are experienced real estate broker of karachi, pakistan location.\"},\n",
    "      {\"role\": \"user\", \"content\": \"can you tell me on which area in karachi should i bought home or flat? but answer me in just 2 lines\"}\n",
    "    ],\n",
    "    stream=True\n",
    "  )\n",
    "\n",
    "  return completion\n",
    "\n",
    "# print(chat_completion())\n",
    "streamedResponse = chat_completion()\n",
    "\n",
    "for part in streamedResponse:\n",
    "    print(part.choices[0].delta.content or \"\", end=\"\")"
   ]
  },
  {
   "cell_type": "code",
   "execution_count": null,
   "metadata": {},
   "outputs": [],
   "source": []
  }
 ],
 "metadata": {
  "kernelspec": {
   "display_name": "Python 3",
   "language": "python",
   "name": "python3"
  },
  "language_info": {
   "codemirror_mode": {
    "name": "ipython",
    "version": 3
   },
   "file_extension": ".py",
   "mimetype": "text/x-python",
   "name": "python",
   "nbconvert_exporter": "python",
   "pygments_lexer": "ipython3",
   "version": "3.10.13"
  }
 },
 "nbformat": 4,
 "nbformat_minor": 2
}
