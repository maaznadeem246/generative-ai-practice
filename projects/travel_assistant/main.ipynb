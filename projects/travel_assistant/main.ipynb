{
 "cells": [
  {
   "cell_type": "code",
   "execution_count": 1,
   "metadata": {},
   "outputs": [],
   "source": [
    "from openai import OpenAI\n",
    "import os\n",
    "from dotenv import load_dotenv, find_dotenv\n",
    "\n",
    "_ : bool = load_dotenv(find_dotenv())\n",
    "\n",
    "MAPBOX_TOKEN = os.environ.get(\"MAPBOX_TOKEN\")\n",
    "\n",
    "\n",
    "client:OpenAI = OpenAI()"
   ]
  },
  {
   "cell_type": "code",
   "execution_count": 2,
   "metadata": {},
   "outputs": [],
   "source": [
    "# import pandas as pd\n",
    "import plotly.graph_objects as go\n",
    "\n",
    "\n",
    "\n",
    "suggestLocations:[dict] = [\n",
    "                           {\n",
    "    \"name\":\"Marysville\",\n",
    "    'lat':48.0517637,\n",
    "    'lon':-122.1770818,\n",
    "},\n",
    "    {\n",
    "        \"name\":\"Perris\",\n",
    "        'lat':33.7825194,\n",
    "        'lon':-117.22864779999999,\n",
    "    }\n",
    "]\n",
    "\n",
    "mainLocation:dict = suggestLocations[0]\n",
    "# City,State,Population,lat,lon\n",
    "# Marysville,Washington,63269,48.0517637,-122.1770818\n",
    "# Perris,California,72326,33.7825194,-117.22864779999999\n",
    "# Cleveland,Ohio,390113,41.499320000000004,-81.6943605\n",
    "# Worcester,Massachusetts,182544,42.262593200000005,-71.8022934\n",
    "# Columbia,South Carolina,133358,34.0007104,-81.0348144\n",
    "# Waterbury,Connecticut,109676,41.558152500000006,-73.0514965\n",
    "# Eagan,Minnesota,65453,44.804132200000005,-93.1668858\n",
    "# Southfield,Michigan,73006,42.473368799999996,-83.2218731\n",
    "\n",
    "\n",
    "\n",
    "\n",
    "\n",
    "\n",
    "def travel_map(mainLocation, suggestLocations):\n",
    "    # mapData = pd.DataFrame(data=data)\n",
    "    print(mainLocation)\n",
    "    print(suggestLocations)\n",
    "    lat = [sl['lat'] for sl in suggestLocations]\n",
    "    lon = [sl['lon'] for sl in suggestLocations]\n",
    "    name = [sl['name'] for sl in suggestLocations]\n",
    "\n",
    "    fig = go.Figure(go.Scattermapbox(\n",
    "        # df=mapData,\n",
    "        mode = \"markers\",\n",
    "        lon = lon, lat = lat,\n",
    "        hovertext=name,\n",
    "        marker=dict(\n",
    "            color='red',\n",
    "            size=10,\n",
    "           \n",
    "        ),\n",
    "        textposition = \"bottom right\"))\n",
    "\n",
    "    fig.update_layout(\n",
    "        mapbox = {\n",
    "            'zoom':15,\n",
    "            'accesstoken': MAPBOX_TOKEN,\n",
    "            'style': \"outdoors\",\n",
    "            \"center\":{'lat': mainLocation['lat'], 'lon': mainLocation['lon']}\n",
    "            \n",
    "            },\n",
    "        showlegend = False)\n",
    "    fig.update_layout(margin={\"r\":0,\"t\":0,\"l\":0,\"b\":0})\n",
    "    fig.update_traces(marker_color='red', selector=dict(type='scattermapbox'))\n",
    "    fig.show()\n",
    "\n",
    "# travel_map(mainLocation,suggestLocations)\n"
   ]
  },
  {
   "cell_type": "code",
   "execution_count": 3,
   "metadata": {},
   "outputs": [],
   "source": [
    "# creating assistant\n",
    "\n",
    "assistant = client.beta.assistants.create(\n",
    "    name=\"Travel Assistant\",\n",
    "    instructions=\"\"\"\n",
    "        you are a experienced travel assiatant, your job is to suggest the user best places at that location which is provided by the user\n",
    "        function retutns \"done\" which means uesr got the suggestion\n",
    "    \"\"\",\n",
    "    model=\"gpt-3.5-turbo-1106\",\n",
    "    tools=[\n",
    "        {\n",
    "            \"type\":'function',\n",
    "            \"function\":{\n",
    "                \"name\":\"travel_map\",\n",
    "                \"description\":\"\"\"\n",
    "                    \n",
    "                    { \"name\", 'lat', 'lon' }\n",
    "                    \"\"\",\n",
    "               \"parameters\": {\n",
    "                    \"type\": \"object\",\n",
    "                    \"properties\": {\n",
    "                    \"mainLocation\": {\"type\": \"object\", \"description\": \"this is the main locaiton and also the center point of map\"},\n",
    "                    \"suggestLocations\": {\"type\": \"object\", \"description\": \"this would be the list of suggest locaitons\"},\n",
    "                },\n",
    "                \"required\": [\"mainLocation\"]\n",
    "                }\n",
    "\n",
    "            }\n",
    "        }\n",
    "    ]\n",
    ")"
   ]
  },
  {
   "cell_type": "code",
   "execution_count": 4,
   "metadata": {},
   "outputs": [
    {
     "name": "stdout",
     "output_type": "stream",
     "text": [
      "Thread(id='thread_fSq2Ia3jB5OF0Qb6pkW9XE7t', created_at=1706980254, metadata={}, object='thread')\n"
     ]
    }
   ],
   "source": [
    "from openai.types.beta.thread import Thread\n",
    "\n",
    "thread: Thread  = client.beta.threads.create()\n",
    "\n",
    "print(thread)"
   ]
  },
  {
   "cell_type": "code",
   "execution_count": 5,
   "metadata": {},
   "outputs": [],
   "source": [
    "from openai.types.beta.threads.thread_message import ThreadMessage\n",
    "\n",
    "# First Request\n",
    "message = client.beta.threads.messages.create(\n",
    "    thread_id=thread.id,\n",
    "    role=\"user\",\n",
    "    content=\"tell me the location with map of Los Angles?\"\n",
    ")"
   ]
  },
  {
   "cell_type": "code",
   "execution_count": 6,
   "metadata": {},
   "outputs": [],
   "source": [
    "available_functions = {\n",
    "    \"travel_map\":travel_map ,\n",
    "} "
   ]
  },
  {
   "cell_type": "code",
   "execution_count": 7,
   "metadata": {},
   "outputs": [],
   "source": [
    "from openai.types.beta.threads.run import Run\n",
    "\n",
    "run: Run = client.beta.threads.runs.create(\n",
    "  thread_id=thread.id,\n",
    "  assistant_id=assistant.id\n",
    ")"
   ]
  },
  {
   "cell_type": "code",
   "execution_count": 8,
   "metadata": {},
   "outputs": [
    {
     "name": "stdout",
     "output_type": "stream",
     "text": [
      "in_progress .....\n",
      "Run is queued. Waiting...\n",
      "requires_action .....\n",
      "requires_action .....\n",
      "Status:  requires_action\n"
     ]
    },
    {
     "data": {
      "text/plain": [
       "'submit_tool_outputs'"
      ]
     },
     "metadata": {},
     "output_type": "display_data"
    },
    {
     "data": {
      "text/plain": [
       "{'submit_tool_outputs': {'tool_calls': [{'id': 'call_fnB1i0FdWQLzj3hhnxU71eGx',\n",
       "    'function': {'arguments': '{}', 'name': 'travel_map'},\n",
       "    'type': 'function'}]},\n",
       " 'type': 'submit_tool_outputs'}"
      ]
     },
     "metadata": {},
     "output_type": "display_data"
    },
    {
     "name": "stdout",
     "output_type": "stream",
     "text": [
      "toolCalls present:\n",
      "<function travel_map at 0x0000019F350F8900> True ================================================================\n",
      "None\n",
      "None\n"
     ]
    },
    {
     "ename": "TypeError",
     "evalue": "'NoneType' object is not iterable",
     "output_type": "error",
     "traceback": [
      "\u001b[1;31m---------------------------------------------------------------------------\u001b[0m",
      "\u001b[1;31mTypeError\u001b[0m                                 Traceback (most recent call last)",
      "Cell \u001b[1;32mIn[8], line 38\u001b[0m\n\u001b[0;32m     34\u001b[0m         \u001b[38;5;28mprint\u001b[39m(function_to_call,function_to_call\u001b[38;5;241m.\u001b[39m\u001b[38;5;18m__name__\u001b[39m\u001b[38;5;241m==\u001b[39m\u001b[38;5;124m\"\u001b[39m\u001b[38;5;124mtravel_map\u001b[39m\u001b[38;5;124m\"\u001b[39m,\u001b[38;5;124m\"\u001b[39m\u001b[38;5;124m================================================================\u001b[39m\u001b[38;5;124m\"\u001b[39m)\n\u001b[0;32m     36\u001b[0m         \u001b[38;5;28;01mif\u001b[39;00m function_to_call\u001b[38;5;241m.\u001b[39m\u001b[38;5;18m__name__\u001b[39m \u001b[38;5;241m==\u001b[39m \u001b[38;5;124m\"\u001b[39m\u001b[38;5;124mtravel_map\u001b[39m\u001b[38;5;124m\"\u001b[39m:\n\u001b[1;32m---> 38\u001b[0m             response \u001b[38;5;241m=\u001b[39m \u001b[43mfunction_to_call\u001b[49m\u001b[43m(\u001b[49m\n\u001b[0;32m     39\u001b[0m \u001b[43m            \u001b[49m\u001b[43mmainLocation\u001b[49m\u001b[38;5;241;43m=\u001b[39;49m\u001b[43mfunction_args\u001b[49m\u001b[38;5;241;43m.\u001b[39;49m\u001b[43mget\u001b[49m\u001b[43m(\u001b[49m\u001b[38;5;124;43m\"\u001b[39;49m\u001b[38;5;124;43mmainLocation\u001b[39;49m\u001b[38;5;124;43m\"\u001b[39;49m\u001b[43m)\u001b[49m\u001b[43m,\u001b[49m\n\u001b[0;32m     40\u001b[0m \u001b[43m            \u001b[49m\u001b[43msuggestLocations\u001b[49m\u001b[38;5;241;43m=\u001b[39;49m\u001b[43mfunction_args\u001b[49m\u001b[38;5;241;43m.\u001b[39;49m\u001b[43mget\u001b[49m\u001b[43m(\u001b[49m\u001b[38;5;124;43m\"\u001b[39;49m\u001b[38;5;124;43msuggestLocations\u001b[39;49m\u001b[38;5;124;43m\"\u001b[39;49m\u001b[43m)\u001b[49m\n\u001b[0;32m     41\u001b[0m \u001b[43m            \u001b[49m\u001b[43m)\u001b[49m\n\u001b[0;32m     44\u001b[0m             tool_outputs\u001b[38;5;241m.\u001b[39mappend({\n\u001b[0;32m     45\u001b[0m                       \u001b[38;5;124m\"\u001b[39m\u001b[38;5;124mtool_call_id\u001b[39m\u001b[38;5;124m\"\u001b[39m: toolcall\u001b[38;5;241m.\u001b[39mid,\n\u001b[0;32m     46\u001b[0m                       \u001b[38;5;124m\"\u001b[39m\u001b[38;5;124moutput\u001b[39m\u001b[38;5;124m\"\u001b[39m: response\n\u001b[0;32m     47\u001b[0m                   })\n\u001b[0;32m     49\u001b[0m \u001b[38;5;28mprint\u001b[39m(tool_outputs,\u001b[38;5;124m\"\u001b[39m\u001b[38;5;124m>>>>>\u001b[39m\u001b[38;5;124m\"\u001b[39m) \n",
      "Cell \u001b[1;32mIn[2], line 39\u001b[0m, in \u001b[0;36mtravel_map\u001b[1;34m(mainLocation, suggestLocations)\u001b[0m\n\u001b[0;32m     37\u001b[0m \u001b[38;5;28mprint\u001b[39m(mainLocation)\n\u001b[0;32m     38\u001b[0m \u001b[38;5;28mprint\u001b[39m(suggestLocations)\n\u001b[1;32m---> 39\u001b[0m lat \u001b[38;5;241m=\u001b[39m \u001b[43m[\u001b[49m\u001b[43msl\u001b[49m\u001b[43m[\u001b[49m\u001b[38;5;124;43m'\u001b[39;49m\u001b[38;5;124;43mlat\u001b[39;49m\u001b[38;5;124;43m'\u001b[39;49m\u001b[43m]\u001b[49m\u001b[43m \u001b[49m\u001b[38;5;28;43;01mfor\u001b[39;49;00m\u001b[43m \u001b[49m\u001b[43msl\u001b[49m\u001b[43m \u001b[49m\u001b[38;5;129;43;01min\u001b[39;49;00m\u001b[43m \u001b[49m\u001b[43msuggestLocations\u001b[49m\u001b[43m]\u001b[49m\n\u001b[0;32m     40\u001b[0m lon \u001b[38;5;241m=\u001b[39m [sl[\u001b[38;5;124m'\u001b[39m\u001b[38;5;124mlon\u001b[39m\u001b[38;5;124m'\u001b[39m] \u001b[38;5;28;01mfor\u001b[39;00m sl \u001b[38;5;129;01min\u001b[39;00m suggestLocations]\n\u001b[0;32m     41\u001b[0m name \u001b[38;5;241m=\u001b[39m [sl[\u001b[38;5;124m'\u001b[39m\u001b[38;5;124mname\u001b[39m\u001b[38;5;124m'\u001b[39m] \u001b[38;5;28;01mfor\u001b[39;00m sl \u001b[38;5;129;01min\u001b[39;00m suggestLocations]\n",
      "\u001b[1;31mTypeError\u001b[0m: 'NoneType' object is not iterable"
     ]
    }
   ],
   "source": [
    "import time\n",
    "import json\n",
    "\n",
    "def show_json(message, obj):\n",
    "    display(message, json.loads(obj.model_dump_json()))\n",
    "\n",
    "  # Loop until the run completes or requires action\n",
    "while True:\n",
    "    runStatus = client.beta.threads.runs.retrieve(thread_id=thread.id,\n",
    "                                                  run_id=run.id)\n",
    "    # Add run steps retrieval here for debuging\n",
    "    run_steps = client.beta.threads.runs.steps.list(thread_id=thread.id, run_id=run.id)\n",
    "    # show_json(\"Run Steps:\", run_steps)\n",
    "    print(runStatus.status ,'.....')\n",
    "\n",
    "    # This means run is making a function call   \n",
    "    if runStatus.status == \"requires_action\":\n",
    "        print(runStatus.status ,'.....')\n",
    "        print(\"Status: \", \"requires_action\")\n",
    "        show_json(\"submit_tool_outputs\", runStatus.required_action)\n",
    "        if runStatus.required_action.submit_tool_outputs and runStatus.required_action.submit_tool_outputs.tool_calls:\n",
    "            print(\"toolCalls present:\")\n",
    "            toolCalls = runStatus.required_action.submit_tool_outputs.tool_calls\n",
    "\n",
    "            tool_outputs = []\n",
    "            for toolcall in toolCalls:\n",
    "                function_name = toolcall.function.name\n",
    "                function_args = json.loads(toolcall.function.arguments)\n",
    "                \n",
    "                if function_name in available_functions:\n",
    "                    \n",
    "                    \n",
    "                    function_to_call = available_functions[function_name]\n",
    "                    print(function_to_call,function_to_call.__name__==\"travel_map\",\"================================================================\")\n",
    "                  \n",
    "                    if function_to_call.__name__ == \"travel_map\":\n",
    "                        \n",
    "                        response = function_to_call(\n",
    "                        mainLocation=function_args.get(\"mainLocation\"),\n",
    "                        suggestLocations=function_args.get(\"suggestLocations\")\n",
    "                        )\n",
    "                        \n",
    "                        \n",
    "                        tool_outputs.append({\n",
    "                                  \"tool_call_id\": toolcall.id,\n",
    "                                  \"output\": response\n",
    "                              })\n",
    "                    \n",
    "            print(tool_outputs,\">>>>>\") \n",
    "            # Submit tool outputs and update the run\n",
    "            client.beta.threads.runs.submit_tool_outputs(\n",
    "                thread_id=thread.id,\n",
    "                run_id=run.id,\n",
    "                tool_outputs=tool_outputs)\n",
    "      \n",
    "    elif runStatus.status == \"completed\":\n",
    "        # List the messages to get the response\n",
    "        print(\"completed...........logic\")\n",
    "        messages: list[ThreadMessage] = client.beta.threads.messages.list(thread_id=thread.id)\n",
    "        for message in messages.data:\n",
    "            role_label = \"User\" if message.role == \"user\" else \"Assistant\"\n",
    "            message_content = message.content[0].text.value\n",
    "            print(f\"{role_label}: {message_content}\\n\")\n",
    "        break  # Exit the loop after processing the completed run\n",
    "\n",
    "    elif run.status == \"failed\":\n",
    "      print(\"Run failed.\")\n",
    "      break\n",
    "\n",
    "    elif run.status in [\"in_progress\", \"queued\"]:\n",
    "      print(f\"Run is {run.status}. Waiting...\")\n",
    "      time.sleep(5)  # Wait for 5 seconds before checking again\n",
    "\n",
    "    else:\n",
    "      print(f\"Unexpected status: {run.status}\")\n",
    "      break"
   ]
  },
  {
   "cell_type": "code",
   "execution_count": null,
   "metadata": {},
   "outputs": [],
   "source": []
  }
 ],
 "metadata": {
  "kernelspec": {
   "display_name": "travel_assistant",
   "language": "python",
   "name": "python3"
  },
  "language_info": {
   "codemirror_mode": {
    "name": "ipython",
    "version": 3
   },
   "file_extension": ".py",
   "mimetype": "text/x-python",
   "name": "python",
   "nbconvert_exporter": "python",
   "pygments_lexer": "ipython3",
   "version": "3.12.1"
  }
 },
 "nbformat": 4,
 "nbformat_minor": 2
}
