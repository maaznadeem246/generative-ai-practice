{
 "cells": [
  {
   "cell_type": "code",
   "execution_count": 150,
   "metadata": {},
   "outputs": [],
   "source": [
    "from openai import OpenAI\n",
    "import os\n",
    "from dotenv import load_dotenv, find_dotenv\n",
    "import time\n",
    "import json\n",
    "from typing import Literal\n",
    "from travel_map import TravelMap\n",
    "import requests\n",
    "\n",
    "_ : bool = load_dotenv(find_dotenv())\n",
    "\n",
    "MAPBOX_TOKEN = os.environ.get(\"MAPBOX_TOKEN\")\n",
    "\n",
    "\n",
    "client:OpenAI = OpenAI()"
   ]
  },
  {
   "cell_type": "code",
   "execution_count": 171,
   "metadata": {},
   "outputs": [],
   "source": [
    "import uuid\n",
    "\n",
    "\n",
    "def show_json(message, obj):\n",
    "    display(message, json.loads(obj.model_dump_json()))\n",
    "\n",
    "\n",
    "customMap = TravelMap()\n",
    "\n",
    "def update_travel_map(**kwargs) -> Literal['updated']:\n",
    "    mainLocation=dict(kwargs).get(\"mainLocation\")\n",
    "    suggestLocations=kwargs.get(\"suggestLocations\")\n",
    "    print(mainLocation)\n",
    "    print(suggestLocations)\n",
    "    if mainLocation != None and suggestLocations != None: \n",
    "        suggestLocations.insert(0,mainLocation)  \n",
    "   \n",
    "    customMap.updateMap(mainLocation, suggestLocations)\n",
    "    return 'updated'\n",
    "\n",
    "\n",
    "# update_travel_map(mainLocation={'test':'test'},suggestLocations=[])\n",
    "\n",
    "def getLocations(**kwargs):\n",
    "    searchText=dict(kwargs).get(\"searchText\")\n",
    "    type=kwargs.get(\"type\")\n",
    "    country=kwargs.get(\"country\")\n",
    "    print(searchText)\n",
    "    print(type)\n",
    "    print(country)\n",
    "    suggestResponse = requests.get(f'https://api.mapbox.com/geocoding/v5/mapbox.places/{searchText}.json?access_token={MAPBOX_TOKEN}&type={type}&country={country}')\n",
    "    # suggestResponse = requests.get(f'https://api.mapbox.com/search/searchbox/v1/suggest?q={searchText}&session_token={uuid.uuid4()}&access_token={MAPBOX_TOKEN}&limit=5&country={country}')\n",
    "\n",
    "    print(suggestResponse.json())\n",
    "    return str(suggestResponse.json()['features'])\n",
    "\n",
    "available_functions = {\n",
    "    \"update_travel_map\":update_travel_map ,\n",
    "    \"getLocations\":getLocations,\n",
    "} "
   ]
  },
  {
   "cell_type": "code",
   "execution_count": 172,
   "metadata": {},
   "outputs": [
    {
     "name": "stdout",
     "output_type": "stream",
     "text": [
      "dolmen\n",
      "None\n",
      "pk\n",
      "{'type': 'FeatureCollection', 'query': ['dolmen'], 'features': [{'id': 'poi.549755824855', 'type': 'Feature', 'place_type': ['poi'], 'relevance': 1, 'properties': {'foursquare': '4eb7057d1081376a2c5b5f05', 'landmark': True, 'wikidata': 'Q15983397', 'address': 'HC-3, Block-4, Marine Drive, Clifton', 'category': 'clothing, accessories, apparel, shop, clothes'}, 'text': 'Dolmen Mall Clifton', 'place_name': 'Dolmen Mall Clifton, HC-3, Block-4, Marine Drive, Clifton, Karachi, Sindh, Pakistan', 'center': [67.0295595, 24.8022515], 'geometry': {'coordinates': [67.0295595, 24.8022515], 'type': 'Point'}, 'context': [{'id': 'locality.37710516', 'mapbox_id': 'dXJuOm1ieHBsYzpBajlxdEE', 'text': 'Civil Line'}, {'id': 'place.67764', 'mapbox_id': 'dXJuOm1ieHBsYzpBUWkw', 'wikidata': 'Q8660', 'text': 'Karachi'}, {'id': 'district.722612', 'mapbox_id': 'dXJuOm1ieHBsYzpDd2Ew', 'wikidata': 'Q6367783', 'text': 'کراچی جنوبی'}, {'id': 'region.42164', 'mapbox_id': 'dXJuOm1ieHBsYzpwTFE', 'wikidata': 'Q37211', 'short_code': 'PK-SD', 'text': 'Sindh'}, {'id': 'country.8884', 'mapbox_id': 'dXJuOm1ieHBsYzpJclE', 'wikidata': 'Q843', 'short_code': 'pk', 'text': 'Pakistan'}]}, {'id': 'poi.274877950346', 'type': 'Feature', 'place_type': ['poi'], 'relevance': 1, 'properties': {'foursquare': '4b8a92a9f964a520e77232e3', 'landmark': True, 'address': 'Tariq Rd', 'category': 'mall, shop'}, 'text': 'Dolmen Mall', 'place_name': 'Dolmen Mall, Tariq Rd, Karachi, Sindh, Pakistan', 'center': [67.06261, 24.876835], 'geometry': {'coordinates': [67.06261, 24.876835], 'type': 'Point'}, 'context': [{'id': 'locality.37784244', 'mapbox_id': 'dXJuOm1ieHBsYzpBa0NLdEE', 'text': 'Jamshed Quarters'}, {'id': 'place.67764', 'mapbox_id': 'dXJuOm1ieHBsYzpBUWkw', 'wikidata': 'Q8660', 'text': 'Karachi'}, {'id': 'district.738996', 'mapbox_id': 'dXJuOm1ieHBsYzpDMGEw', 'wikidata': 'Q6367745', 'text': 'کراچی مشرقی'}, {'id': 'region.42164', 'mapbox_id': 'dXJuOm1ieHBsYzpwTFE', 'wikidata': 'Q37211', 'short_code': 'PK-SD', 'text': 'Sindh'}, {'id': 'country.8884', 'mapbox_id': 'dXJuOm1ieHBsYzpJclE', 'wikidata': 'Q843', 'short_code': 'pk', 'text': 'Pakistan'}]}, {'id': 'poi.1030792180224', 'type': 'Feature', 'place_type': ['poi'], 'relevance': 1, 'properties': {'foursquare': '4ba38877f964a520014538e3', 'landmark': True, 'address': 'Shara-e-Sher Shah Suri', 'category': 'mall, shop'}, 'text': 'Dolmen Mall', 'place_name': 'Dolmen Mall, Shara-e-Sher Shah Suri, Karachi, Sindh, Pakistan', 'center': [67.040476, 24.9356], 'geometry': {'coordinates': [67.040476, 24.9356], 'type': 'Point'}, 'context': [{'id': 'locality.37898932', 'mapbox_id': 'dXJuOm1ieHBsYzpBa0pLdEE', 'text': 'North Nazimabad'}, {'id': 'place.67764', 'mapbox_id': 'dXJuOm1ieHBsYzpBUWkw', 'wikidata': 'Q8660', 'text': 'Karachi'}, {'id': 'district.730804', 'mapbox_id': 'dXJuOm1ieHBsYzpDeWEw', 'wikidata': 'Q6367734', 'text': 'کراچی سینٹر'}, {'id': 'region.42164', 'mapbox_id': 'dXJuOm1ieHBsYzpwTFE', 'wikidata': 'Q37211', 'short_code': 'PK-SD', 'text': 'Sindh'}, {'id': 'country.8884', 'mapbox_id': 'dXJuOm1ieHBsYzpJclE', 'wikidata': 'Q843', 'short_code': 'pk', 'text': 'Pakistan'}]}, {'id': 'poi.635655218480', 'type': 'Feature', 'place_type': ['poi'], 'relevance': 1, 'properties': {'foursquare': '4e636efa1f6ef7d07b201b86', 'landmark': True, 'address': 'Dolmen Mall, Tariq Road', 'category': 'restaurant, food'}, 'text': 'Dolmen Mall Food Court', 'place_name': 'Dolmen Mall Food Court, Dolmen Mall, Tariq Road, Karachi, Sindh, Pakistan', 'center': [67.062611, 24.876873], 'geometry': {'coordinates': [67.062611, 24.876873], 'type': 'Point'}, 'context': [{'id': 'locality.37784244', 'mapbox_id': 'dXJuOm1ieHBsYzpBa0NLdEE', 'text': 'Jamshed Quarters'}, {'id': 'place.67764', 'mapbox_id': 'dXJuOm1ieHBsYzpBUWkw', 'wikidata': 'Q8660', 'text': 'Karachi'}, {'id': 'district.738996', 'mapbox_id': 'dXJuOm1ieHBsYzpDMGEw', 'wikidata': 'Q6367745', 'text': 'کراچی مشرقی'}, {'id': 'region.42164', 'mapbox_id': 'dXJuOm1ieHBsYzpwTFE', 'wikidata': 'Q37211', 'short_code': 'PK-SD', 'text': 'Sindh'}, {'id': 'country.8884', 'mapbox_id': 'dXJuOm1ieHBsYzpJclE', 'wikidata': 'Q843', 'short_code': 'pk', 'text': 'Pakistan'}]}, {'id': 'poi.266288044496', 'type': 'Feature', 'place_type': ['poi'], 'relevance': 1, 'properties': {'foursquare': '5001935de4b0eed3b6fdd717', 'landmark': True, 'address': 'Dolmen City Mall, Sea View Rd', 'category': 'food court, fast food'}, 'text': 'Dolmen Mall Clifton Food Court', 'place_name': 'Dolmen Mall Clifton Food Court, Dolmen City Mall, Sea View Rd, Karachi, Sindh, Pakistan', 'center': [67.029635, 24.802344], 'geometry': {'coordinates': [67.029635, 24.802344], 'type': 'Point'}, 'context': [{'id': 'locality.37710516', 'mapbox_id': 'dXJuOm1ieHBsYzpBajlxdEE', 'text': 'Civil Line'}, {'id': 'place.67764', 'mapbox_id': 'dXJuOm1ieHBsYzpBUWkw', 'wikidata': 'Q8660', 'text': 'Karachi'}, {'id': 'district.722612', 'mapbox_id': 'dXJuOm1ieHBsYzpDd2Ew', 'wikidata': 'Q6367783', 'text': 'کراچی جنوبی'}, {'id': 'region.42164', 'mapbox_id': 'dXJuOm1ieHBsYzpwTFE', 'wikidata': 'Q37211', 'short_code': 'PK-SD', 'text': 'Sindh'}, {'id': 'country.8884', 'mapbox_id': 'dXJuOm1ieHBsYzpJclE', 'wikidata': 'Q843', 'short_code': 'pk', 'text': 'Pakistan'}]}], 'attribution': 'NOTICE: © 2024 Mapbox and its suppliers. All rights reserved. Use of this data is subject to the Mapbox Terms of Service (https://www.mapbox.com/about/maps/). This response and the information it contains may not be retained. POI(s) provided by Foursquare.'}\n"
     ]
    },
    {
     "data": {
      "text/plain": [
       "\"[{'id': 'poi.549755824855', 'type': 'Feature', 'place_type': ['poi'], 'relevance': 1, 'properties': {'foursquare': '4eb7057d1081376a2c5b5f05', 'landmark': True, 'wikidata': 'Q15983397', 'address': 'HC-3, Block-4, Marine Drive, Clifton', 'category': 'clothing, accessories, apparel, shop, clothes'}, 'text': 'Dolmen Mall Clifton', 'place_name': 'Dolmen Mall Clifton, HC-3, Block-4, Marine Drive, Clifton, Karachi, Sindh, Pakistan', 'center': [67.0295595, 24.8022515], 'geometry': {'coordinates': [67.0295595, 24.8022515], 'type': 'Point'}, 'context': [{'id': 'locality.37710516', 'mapbox_id': 'dXJuOm1ieHBsYzpBajlxdEE', 'text': 'Civil Line'}, {'id': 'place.67764', 'mapbox_id': 'dXJuOm1ieHBsYzpBUWkw', 'wikidata': 'Q8660', 'text': 'Karachi'}, {'id': 'district.722612', 'mapbox_id': 'dXJuOm1ieHBsYzpDd2Ew', 'wikidata': 'Q6367783', 'text': 'کراچی جنوبی'}, {'id': 'region.42164', 'mapbox_id': 'dXJuOm1ieHBsYzpwTFE', 'wikidata': 'Q37211', 'short_code': 'PK-SD', 'text': 'Sindh'}, {'id': 'country.8884', 'mapbox_id': 'dXJuOm1ieHBsYzpJclE', 'wikidata': 'Q843', 'short_code': 'pk', 'text': 'Pakistan'}]}, {'id': 'poi.274877950346', 'type': 'Feature', 'place_type': ['poi'], 'relevance': 1, 'properties': {'foursquare': '4b8a92a9f964a520e77232e3', 'landmark': True, 'address': 'Tariq Rd', 'category': 'mall, shop'}, 'text': 'Dolmen Mall', 'place_name': 'Dolmen Mall, Tariq Rd, Karachi, Sindh, Pakistan', 'center': [67.06261, 24.876835], 'geometry': {'coordinates': [67.06261, 24.876835], 'type': 'Point'}, 'context': [{'id': 'locality.37784244', 'mapbox_id': 'dXJuOm1ieHBsYzpBa0NLdEE', 'text': 'Jamshed Quarters'}, {'id': 'place.67764', 'mapbox_id': 'dXJuOm1ieHBsYzpBUWkw', 'wikidata': 'Q8660', 'text': 'Karachi'}, {'id': 'district.738996', 'mapbox_id': 'dXJuOm1ieHBsYzpDMGEw', 'wikidata': 'Q6367745', 'text': 'کراچی مشرقی'}, {'id': 'region.42164', 'mapbox_id': 'dXJuOm1ieHBsYzpwTFE', 'wikidata': 'Q37211', 'short_code': 'PK-SD', 'text': 'Sindh'}, {'id': 'country.8884', 'mapbox_id': 'dXJuOm1ieHBsYzpJclE', 'wikidata': 'Q843', 'short_code': 'pk', 'text': 'Pakistan'}]}, {'id': 'poi.1030792180224', 'type': 'Feature', 'place_type': ['poi'], 'relevance': 1, 'properties': {'foursquare': '4ba38877f964a520014538e3', 'landmark': True, 'address': 'Shara-e-Sher Shah Suri', 'category': 'mall, shop'}, 'text': 'Dolmen Mall', 'place_name': 'Dolmen Mall, Shara-e-Sher Shah Suri, Karachi, Sindh, Pakistan', 'center': [67.040476, 24.9356], 'geometry': {'coordinates': [67.040476, 24.9356], 'type': 'Point'}, 'context': [{'id': 'locality.37898932', 'mapbox_id': 'dXJuOm1ieHBsYzpBa0pLdEE', 'text': 'North Nazimabad'}, {'id': 'place.67764', 'mapbox_id': 'dXJuOm1ieHBsYzpBUWkw', 'wikidata': 'Q8660', 'text': 'Karachi'}, {'id': 'district.730804', 'mapbox_id': 'dXJuOm1ieHBsYzpDeWEw', 'wikidata': 'Q6367734', 'text': 'کراچی سینٹر'}, {'id': 'region.42164', 'mapbox_id': 'dXJuOm1ieHBsYzpwTFE', 'wikidata': 'Q37211', 'short_code': 'PK-SD', 'text': 'Sindh'}, {'id': 'country.8884', 'mapbox_id': 'dXJuOm1ieHBsYzpJclE', 'wikidata': 'Q843', 'short_code': 'pk', 'text': 'Pakistan'}]}, {'id': 'poi.635655218480', 'type': 'Feature', 'place_type': ['poi'], 'relevance': 1, 'properties': {'foursquare': '4e636efa1f6ef7d07b201b86', 'landmark': True, 'address': 'Dolmen Mall, Tariq Road', 'category': 'restaurant, food'}, 'text': 'Dolmen Mall Food Court', 'place_name': 'Dolmen Mall Food Court, Dolmen Mall, Tariq Road, Karachi, Sindh, Pakistan', 'center': [67.062611, 24.876873], 'geometry': {'coordinates': [67.062611, 24.876873], 'type': 'Point'}, 'context': [{'id': 'locality.37784244', 'mapbox_id': 'dXJuOm1ieHBsYzpBa0NLdEE', 'text': 'Jamshed Quarters'}, {'id': 'place.67764', 'mapbox_id': 'dXJuOm1ieHBsYzpBUWkw', 'wikidata': 'Q8660', 'text': 'Karachi'}, {'id': 'district.738996', 'mapbox_id': 'dXJuOm1ieHBsYzpDMGEw', 'wikidata': 'Q6367745', 'text': 'کراچی مشرقی'}, {'id': 'region.42164', 'mapbox_id': 'dXJuOm1ieHBsYzpwTFE', 'wikidata': 'Q37211', 'short_code': 'PK-SD', 'text': 'Sindh'}, {'id': 'country.8884', 'mapbox_id': 'dXJuOm1ieHBsYzpJclE', 'wikidata': 'Q843', 'short_code': 'pk', 'text': 'Pakistan'}]}, {'id': 'poi.266288044496', 'type': 'Feature', 'place_type': ['poi'], 'relevance': 1, 'properties': {'foursquare': '5001935de4b0eed3b6fdd717', 'landmark': True, 'address': 'Dolmen City Mall, Sea View Rd', 'category': 'food court, fast food'}, 'text': 'Dolmen Mall Clifton Food Court', 'place_name': 'Dolmen Mall Clifton Food Court, Dolmen City Mall, Sea View Rd, Karachi, Sindh, Pakistan', 'center': [67.029635, 24.802344], 'geometry': {'coordinates': [67.029635, 24.802344], 'type': 'Point'}, 'context': [{'id': 'locality.37710516', 'mapbox_id': 'dXJuOm1ieHBsYzpBajlxdEE', 'text': 'Civil Line'}, {'id': 'place.67764', 'mapbox_id': 'dXJuOm1ieHBsYzpBUWkw', 'wikidata': 'Q8660', 'text': 'Karachi'}, {'id': 'district.722612', 'mapbox_id': 'dXJuOm1ieHBsYzpDd2Ew', 'wikidata': 'Q6367783', 'text': 'کراچی جنوبی'}, {'id': 'region.42164', 'mapbox_id': 'dXJuOm1ieHBsYzpwTFE', 'wikidata': 'Q37211', 'short_code': 'PK-SD', 'text': 'Sindh'}, {'id': 'country.8884', 'mapbox_id': 'dXJuOm1ieHBsYzpJclE', 'wikidata': 'Q843', 'short_code': 'pk', 'text': 'Pakistan'}]}]\""
      ]
     },
     "execution_count": 172,
     "metadata": {},
     "output_type": "execute_result"
    }
   ],
   "source": [
    "# getLocations(searchText='dolmen',country='pk')"
   ]
  },
  {
   "cell_type": "code",
   "execution_count": 153,
   "metadata": {},
   "outputs": [],
   "source": [
    "# creating assistant\n",
    "\n",
    "assistant = client.beta.assistants.update(\n",
    "    assistant_id=\"asst_HnH3lC8ggTXM2pUFwnZhVvjF\",\n",
    "    name=\"Travel Assistant\",\n",
    "    instructions=\"\"\"\n",
    "        -you are a experienced travel assiatant, \n",
    "        -your job is to suggest the user best places you can also use map \n",
    "        -always suggest places near to main location if not specified.\n",
    "        -map is mandatory\n",
    "    \"\"\",\n",
    "            \n",
    "    model=\"gpt-3.5-turbo-1106\",\n",
    "    # model=\"gpt-4-turbo-preview\",\n",
    "\n",
    "    tools=[\n",
    "        {\"type\": \"code_interpreter\"},\n",
    "        {\n",
    "            \"type\":'function',\n",
    "            \"function\":{\n",
    "                \"name\":\"update_travel_map\",\n",
    "                \"description\":\"\"\"\n",
    "                    -use this function for updating the locaiton on the map, this function uses the mapbox with plotly python\n",
    "                    \n",
    "                    -function has two parameters in delimiter\n",
    "                     `mainLocation` : this  dictionary is  the center of the map (main location from user preference)\n",
    "                     `suggestLocations` : this is the list of dictionaries(any extra suggest locations)\n",
    "\n",
    "                    -keys of location object is in delimiter\n",
    "                     `name`, `lat`, `lon`\n",
    "\n",
    "                    -always ensure and check pass these two arguments never call functions without arguments\n",
    "                     function return `updated` which means map is updated.\n",
    "                    \"\"\",\n",
    "               \"parameters\": {\n",
    "                    \"type\": \"object\",\n",
    "                    \"properties\": {\n",
    "                    \"mainLocation\": {\"type\": \"object\", \"description\": \"this is the single object\"},\n",
    "                    \"suggestLocations\": {\"type\": \"object\", \"description\": \"this is the list of objects\"},\n",
    "                },\n",
    "                \"required\": [\"mainLocation\",'suggestLocations']\n",
    "                }\n",
    "\n",
    "            }\n",
    "        },\n",
    "        {\n",
    "            'type':'function',\n",
    "            'function':{\n",
    "                \"name\":'getLocations',\n",
    "                'description':\"\"\"\n",
    "                    you can use this to get the locations data for `update_travel_map` function like name,latitute,longitute etc\n",
    "                    this function uses the mapbox.places of geocoding api 'https://docs.mapbox.com/api/search/geocoding/' \n",
    "                \"\"\",\n",
    "                \"parameters\":{\n",
    "                    \"type\":\"object\",\n",
    "                    \"properties\":{\n",
    "                        'searchText':{'type':'string','description':'location place text for search query text, text without country name '},\n",
    "                        'type':{'type':'string','description':\"\"\"\n",
    "                                types of location\n",
    "                                country, region, postcode, district, place, locality, neighborhood, address\n",
    "                                for multipe provide in comma seprated\n",
    "                                \"\"\"\n",
    "                            },\n",
    "                        'country':{'type':'string','description':'country of the search location, use ISO 3166-1 alpha-2 code for this'}\n",
    "                    },\n",
    "                    'required':[\"searchText\",'type','country']\n",
    "                }\n",
    "            }\n",
    "        }\n",
    "    ],\n",
    "    #  tool_choice={\"type\": \"function\", \"function\": {\"name\": \"update_travel_map\"}}\n",
    ")\n",
    "\n",
    "# assistant = dict(id='asst_HnH3lC8ggTXM2pUFwnZhVvjF')"
   ]
  },
  {
   "cell_type": "code",
   "execution_count": 154,
   "metadata": {},
   "outputs": [
    {
     "name": "stdout",
     "output_type": "stream",
     "text": [
      "Thread(id='thread_LT8bQ6XKyXPcvwrXwMdz3qiw', created_at=1707236063, metadata={}, object='thread')\n"
     ]
    }
   ],
   "source": [
    "from openai.types.beta.thread import Thread\n",
    "\n",
    "thread: Thread  = client.beta.threads.create()\n",
    "\n",
    "print(thread)"
   ]
  },
  {
   "cell_type": "code",
   "execution_count": 155,
   "metadata": {},
   "outputs": [],
   "source": [
    "from openai.types.beta.threads.thread_message import ThreadMessage\n",
    "\n",
    "# First Request\n",
    "message = client.beta.threads.messages.create(\n",
    "    thread_id=thread.id,\n",
    "    role=\"user\",\n",
    "    content=\"where is Dilkusha Forum building in karachi, pakistan?\"\n",
    ")"
   ]
  },
  {
   "cell_type": "code",
   "execution_count": null,
   "metadata": {},
   "outputs": [],
   "source": []
  },
  {
   "cell_type": "code",
   "execution_count": 156,
   "metadata": {},
   "outputs": [],
   "source": [
    "from openai.types.beta.threads.run import Run\n",
    "\n",
    "run: Run = client.beta.threads.runs.create(\n",
    "  thread_id=thread.id,\n",
    "  assistant_id=assistant.id\n",
    ")"
   ]
  },
  {
   "cell_type": "code",
   "execution_count": 157,
   "metadata": {},
   "outputs": [
    {
     "name": "stdout",
     "output_type": "stream",
     "text": [
      "in_progress .....\n",
      "Run is queued. Waiting...\n",
      "requires_action .....\n",
      "Dilkusha Forum building\n",
      "building\n",
      "PK\n",
      "{'type': 'FeatureCollection', 'query': ['dilkusha', 'forum', 'building'], 'features': [], 'attribution': 'NOTICE: © 2024 Mapbox and its suppliers. All rights reserved. Use of this data is subject to the Mapbox Terms of Service (https://www.mapbox.com/about/maps/). This response and the information it contains may not be retained. POI(s) provided by Foursquare.'}\n",
      "in_progress .....\n",
      "Run is queued. Waiting...\n",
      "completed .....\n",
      "Assistant: I couldn't find the exact location for the Dilkusha Forum building in Karachi, Pakistan. Is there anything else I can help you with?\n",
      "\n",
      "User: where is Dilkusha Forum building in karachi, pakistan?\n",
      "\n"
     ]
    },
    {
     "data": {
      "application/vnd.plotly.v1+json": {
       "config": {
        "plotlyServerURL": "https://plot.ly"
       },
       "data": [
        {
         "hovertext": [],
         "lat": [],
         "lon": [],
         "marker": {
          "color": "red",
          "size": 10
         },
         "mode": "markers",
         "textposition": "bottom right",
         "type": "scattermapbox"
        }
       ],
       "layout": {
        "mapbox": {
         "accesstoken": "pk.eyJ1IjoibWFhenVkZGluIiwiYSI6ImNsczR0MzNhMTA3YTgycm54cjF5OGsyMDEifQ.99LEvY6eNY8EHr8-SUjbLg"
        },
        "margin": {
         "b": 0,
         "l": 0,
         "r": 0,
         "t": 0
        },
        "showlegend": false,
        "template": {
         "data": {
          "bar": [
           {
            "error_x": {
             "color": "#2a3f5f"
            },
            "error_y": {
             "color": "#2a3f5f"
            },
            "marker": {
             "line": {
              "color": "#E5ECF6",
              "width": 0.5
             },
             "pattern": {
              "fillmode": "overlay",
              "size": 10,
              "solidity": 0.2
             }
            },
            "type": "bar"
           }
          ],
          "barpolar": [
           {
            "marker": {
             "line": {
              "color": "#E5ECF6",
              "width": 0.5
             },
             "pattern": {
              "fillmode": "overlay",
              "size": 10,
              "solidity": 0.2
             }
            },
            "type": "barpolar"
           }
          ],
          "carpet": [
           {
            "aaxis": {
             "endlinecolor": "#2a3f5f",
             "gridcolor": "white",
             "linecolor": "white",
             "minorgridcolor": "white",
             "startlinecolor": "#2a3f5f"
            },
            "baxis": {
             "endlinecolor": "#2a3f5f",
             "gridcolor": "white",
             "linecolor": "white",
             "minorgridcolor": "white",
             "startlinecolor": "#2a3f5f"
            },
            "type": "carpet"
           }
          ],
          "choropleth": [
           {
            "colorbar": {
             "outlinewidth": 0,
             "ticks": ""
            },
            "type": "choropleth"
           }
          ],
          "contour": [
           {
            "colorbar": {
             "outlinewidth": 0,
             "ticks": ""
            },
            "colorscale": [
             [
              0,
              "#0d0887"
             ],
             [
              0.1111111111111111,
              "#46039f"
             ],
             [
              0.2222222222222222,
              "#7201a8"
             ],
             [
              0.3333333333333333,
              "#9c179e"
             ],
             [
              0.4444444444444444,
              "#bd3786"
             ],
             [
              0.5555555555555556,
              "#d8576b"
             ],
             [
              0.6666666666666666,
              "#ed7953"
             ],
             [
              0.7777777777777778,
              "#fb9f3a"
             ],
             [
              0.8888888888888888,
              "#fdca26"
             ],
             [
              1,
              "#f0f921"
             ]
            ],
            "type": "contour"
           }
          ],
          "contourcarpet": [
           {
            "colorbar": {
             "outlinewidth": 0,
             "ticks": ""
            },
            "type": "contourcarpet"
           }
          ],
          "heatmap": [
           {
            "colorbar": {
             "outlinewidth": 0,
             "ticks": ""
            },
            "colorscale": [
             [
              0,
              "#0d0887"
             ],
             [
              0.1111111111111111,
              "#46039f"
             ],
             [
              0.2222222222222222,
              "#7201a8"
             ],
             [
              0.3333333333333333,
              "#9c179e"
             ],
             [
              0.4444444444444444,
              "#bd3786"
             ],
             [
              0.5555555555555556,
              "#d8576b"
             ],
             [
              0.6666666666666666,
              "#ed7953"
             ],
             [
              0.7777777777777778,
              "#fb9f3a"
             ],
             [
              0.8888888888888888,
              "#fdca26"
             ],
             [
              1,
              "#f0f921"
             ]
            ],
            "type": "heatmap"
           }
          ],
          "heatmapgl": [
           {
            "colorbar": {
             "outlinewidth": 0,
             "ticks": ""
            },
            "colorscale": [
             [
              0,
              "#0d0887"
             ],
             [
              0.1111111111111111,
              "#46039f"
             ],
             [
              0.2222222222222222,
              "#7201a8"
             ],
             [
              0.3333333333333333,
              "#9c179e"
             ],
             [
              0.4444444444444444,
              "#bd3786"
             ],
             [
              0.5555555555555556,
              "#d8576b"
             ],
             [
              0.6666666666666666,
              "#ed7953"
             ],
             [
              0.7777777777777778,
              "#fb9f3a"
             ],
             [
              0.8888888888888888,
              "#fdca26"
             ],
             [
              1,
              "#f0f921"
             ]
            ],
            "type": "heatmapgl"
           }
          ],
          "histogram": [
           {
            "marker": {
             "pattern": {
              "fillmode": "overlay",
              "size": 10,
              "solidity": 0.2
             }
            },
            "type": "histogram"
           }
          ],
          "histogram2d": [
           {
            "colorbar": {
             "outlinewidth": 0,
             "ticks": ""
            },
            "colorscale": [
             [
              0,
              "#0d0887"
             ],
             [
              0.1111111111111111,
              "#46039f"
             ],
             [
              0.2222222222222222,
              "#7201a8"
             ],
             [
              0.3333333333333333,
              "#9c179e"
             ],
             [
              0.4444444444444444,
              "#bd3786"
             ],
             [
              0.5555555555555556,
              "#d8576b"
             ],
             [
              0.6666666666666666,
              "#ed7953"
             ],
             [
              0.7777777777777778,
              "#fb9f3a"
             ],
             [
              0.8888888888888888,
              "#fdca26"
             ],
             [
              1,
              "#f0f921"
             ]
            ],
            "type": "histogram2d"
           }
          ],
          "histogram2dcontour": [
           {
            "colorbar": {
             "outlinewidth": 0,
             "ticks": ""
            },
            "colorscale": [
             [
              0,
              "#0d0887"
             ],
             [
              0.1111111111111111,
              "#46039f"
             ],
             [
              0.2222222222222222,
              "#7201a8"
             ],
             [
              0.3333333333333333,
              "#9c179e"
             ],
             [
              0.4444444444444444,
              "#bd3786"
             ],
             [
              0.5555555555555556,
              "#d8576b"
             ],
             [
              0.6666666666666666,
              "#ed7953"
             ],
             [
              0.7777777777777778,
              "#fb9f3a"
             ],
             [
              0.8888888888888888,
              "#fdca26"
             ],
             [
              1,
              "#f0f921"
             ]
            ],
            "type": "histogram2dcontour"
           }
          ],
          "mesh3d": [
           {
            "colorbar": {
             "outlinewidth": 0,
             "ticks": ""
            },
            "type": "mesh3d"
           }
          ],
          "parcoords": [
           {
            "line": {
             "colorbar": {
              "outlinewidth": 0,
              "ticks": ""
             }
            },
            "type": "parcoords"
           }
          ],
          "pie": [
           {
            "automargin": true,
            "type": "pie"
           }
          ],
          "scatter": [
           {
            "fillpattern": {
             "fillmode": "overlay",
             "size": 10,
             "solidity": 0.2
            },
            "type": "scatter"
           }
          ],
          "scatter3d": [
           {
            "line": {
             "colorbar": {
              "outlinewidth": 0,
              "ticks": ""
             }
            },
            "marker": {
             "colorbar": {
              "outlinewidth": 0,
              "ticks": ""
             }
            },
            "type": "scatter3d"
           }
          ],
          "scattercarpet": [
           {
            "marker": {
             "colorbar": {
              "outlinewidth": 0,
              "ticks": ""
             }
            },
            "type": "scattercarpet"
           }
          ],
          "scattergeo": [
           {
            "marker": {
             "colorbar": {
              "outlinewidth": 0,
              "ticks": ""
             }
            },
            "type": "scattergeo"
           }
          ],
          "scattergl": [
           {
            "marker": {
             "colorbar": {
              "outlinewidth": 0,
              "ticks": ""
             }
            },
            "type": "scattergl"
           }
          ],
          "scattermapbox": [
           {
            "marker": {
             "colorbar": {
              "outlinewidth": 0,
              "ticks": ""
             }
            },
            "type": "scattermapbox"
           }
          ],
          "scatterpolar": [
           {
            "marker": {
             "colorbar": {
              "outlinewidth": 0,
              "ticks": ""
             }
            },
            "type": "scatterpolar"
           }
          ],
          "scatterpolargl": [
           {
            "marker": {
             "colorbar": {
              "outlinewidth": 0,
              "ticks": ""
             }
            },
            "type": "scatterpolargl"
           }
          ],
          "scatterternary": [
           {
            "marker": {
             "colorbar": {
              "outlinewidth": 0,
              "ticks": ""
             }
            },
            "type": "scatterternary"
           }
          ],
          "surface": [
           {
            "colorbar": {
             "outlinewidth": 0,
             "ticks": ""
            },
            "colorscale": [
             [
              0,
              "#0d0887"
             ],
             [
              0.1111111111111111,
              "#46039f"
             ],
             [
              0.2222222222222222,
              "#7201a8"
             ],
             [
              0.3333333333333333,
              "#9c179e"
             ],
             [
              0.4444444444444444,
              "#bd3786"
             ],
             [
              0.5555555555555556,
              "#d8576b"
             ],
             [
              0.6666666666666666,
              "#ed7953"
             ],
             [
              0.7777777777777778,
              "#fb9f3a"
             ],
             [
              0.8888888888888888,
              "#fdca26"
             ],
             [
              1,
              "#f0f921"
             ]
            ],
            "type": "surface"
           }
          ],
          "table": [
           {
            "cells": {
             "fill": {
              "color": "#EBF0F8"
             },
             "line": {
              "color": "white"
             }
            },
            "header": {
             "fill": {
              "color": "#C8D4E3"
             },
             "line": {
              "color": "white"
             }
            },
            "type": "table"
           }
          ]
         },
         "layout": {
          "annotationdefaults": {
           "arrowcolor": "#2a3f5f",
           "arrowhead": 0,
           "arrowwidth": 1
          },
          "autotypenumbers": "strict",
          "coloraxis": {
           "colorbar": {
            "outlinewidth": 0,
            "ticks": ""
           }
          },
          "colorscale": {
           "diverging": [
            [
             0,
             "#8e0152"
            ],
            [
             0.1,
             "#c51b7d"
            ],
            [
             0.2,
             "#de77ae"
            ],
            [
             0.3,
             "#f1b6da"
            ],
            [
             0.4,
             "#fde0ef"
            ],
            [
             0.5,
             "#f7f7f7"
            ],
            [
             0.6,
             "#e6f5d0"
            ],
            [
             0.7,
             "#b8e186"
            ],
            [
             0.8,
             "#7fbc41"
            ],
            [
             0.9,
             "#4d9221"
            ],
            [
             1,
             "#276419"
            ]
           ],
           "sequential": [
            [
             0,
             "#0d0887"
            ],
            [
             0.1111111111111111,
             "#46039f"
            ],
            [
             0.2222222222222222,
             "#7201a8"
            ],
            [
             0.3333333333333333,
             "#9c179e"
            ],
            [
             0.4444444444444444,
             "#bd3786"
            ],
            [
             0.5555555555555556,
             "#d8576b"
            ],
            [
             0.6666666666666666,
             "#ed7953"
            ],
            [
             0.7777777777777778,
             "#fb9f3a"
            ],
            [
             0.8888888888888888,
             "#fdca26"
            ],
            [
             1,
             "#f0f921"
            ]
           ],
           "sequentialminus": [
            [
             0,
             "#0d0887"
            ],
            [
             0.1111111111111111,
             "#46039f"
            ],
            [
             0.2222222222222222,
             "#7201a8"
            ],
            [
             0.3333333333333333,
             "#9c179e"
            ],
            [
             0.4444444444444444,
             "#bd3786"
            ],
            [
             0.5555555555555556,
             "#d8576b"
            ],
            [
             0.6666666666666666,
             "#ed7953"
            ],
            [
             0.7777777777777778,
             "#fb9f3a"
            ],
            [
             0.8888888888888888,
             "#fdca26"
            ],
            [
             1,
             "#f0f921"
            ]
           ]
          },
          "colorway": [
           "#636efa",
           "#EF553B",
           "#00cc96",
           "#ab63fa",
           "#FFA15A",
           "#19d3f3",
           "#FF6692",
           "#B6E880",
           "#FF97FF",
           "#FECB52"
          ],
          "font": {
           "color": "#2a3f5f"
          },
          "geo": {
           "bgcolor": "white",
           "lakecolor": "white",
           "landcolor": "#E5ECF6",
           "showlakes": true,
           "showland": true,
           "subunitcolor": "white"
          },
          "hoverlabel": {
           "align": "left"
          },
          "hovermode": "closest",
          "mapbox": {
           "style": "light"
          },
          "paper_bgcolor": "white",
          "plot_bgcolor": "#E5ECF6",
          "polar": {
           "angularaxis": {
            "gridcolor": "white",
            "linecolor": "white",
            "ticks": ""
           },
           "bgcolor": "#E5ECF6",
           "radialaxis": {
            "gridcolor": "white",
            "linecolor": "white",
            "ticks": ""
           }
          },
          "scene": {
           "xaxis": {
            "backgroundcolor": "#E5ECF6",
            "gridcolor": "white",
            "gridwidth": 2,
            "linecolor": "white",
            "showbackground": true,
            "ticks": "",
            "zerolinecolor": "white"
           },
           "yaxis": {
            "backgroundcolor": "#E5ECF6",
            "gridcolor": "white",
            "gridwidth": 2,
            "linecolor": "white",
            "showbackground": true,
            "ticks": "",
            "zerolinecolor": "white"
           },
           "zaxis": {
            "backgroundcolor": "#E5ECF6",
            "gridcolor": "white",
            "gridwidth": 2,
            "linecolor": "white",
            "showbackground": true,
            "ticks": "",
            "zerolinecolor": "white"
           }
          },
          "shapedefaults": {
           "line": {
            "color": "#2a3f5f"
           }
          },
          "ternary": {
           "aaxis": {
            "gridcolor": "white",
            "linecolor": "white",
            "ticks": ""
           },
           "baxis": {
            "gridcolor": "white",
            "linecolor": "white",
            "ticks": ""
           },
           "bgcolor": "#E5ECF6",
           "caxis": {
            "gridcolor": "white",
            "linecolor": "white",
            "ticks": ""
           }
          },
          "title": {
           "x": 0.05
          },
          "xaxis": {
           "automargin": true,
           "gridcolor": "white",
           "linecolor": "white",
           "ticks": "",
           "title": {
            "standoff": 15
           },
           "zerolinecolor": "white",
           "zerolinewidth": 2
          },
          "yaxis": {
           "automargin": true,
           "gridcolor": "white",
           "linecolor": "white",
           "ticks": "",
           "title": {
            "standoff": 15
           },
           "zerolinecolor": "white",
           "zerolinewidth": 2
          }
         }
        }
       }
      },
      "text/html": [
       "<div>                            <div id=\"a40fcddc-902a-41f1-b43d-05f4120a5168\" class=\"plotly-graph-div\" style=\"height:525px; width:100%;\"></div>            <script type=\"text/javascript\">                require([\"plotly\"], function(Plotly) {                    window.PLOTLYENV=window.PLOTLYENV || {};                                    if (document.getElementById(\"a40fcddc-902a-41f1-b43d-05f4120a5168\")) {                    Plotly.newPlot(                        \"a40fcddc-902a-41f1-b43d-05f4120a5168\",                        [{\"hovertext\":[],\"lat\":[],\"lon\":[],\"marker\":{\"color\":\"red\",\"size\":10},\"mode\":\"markers\",\"textposition\":\"bottom right\",\"type\":\"scattermapbox\"}],                        {\"template\":{\"data\":{\"histogram2dcontour\":[{\"type\":\"histogram2dcontour\",\"colorbar\":{\"outlinewidth\":0,\"ticks\":\"\"},\"colorscale\":[[0.0,\"#0d0887\"],[0.1111111111111111,\"#46039f\"],[0.2222222222222222,\"#7201a8\"],[0.3333333333333333,\"#9c179e\"],[0.4444444444444444,\"#bd3786\"],[0.5555555555555556,\"#d8576b\"],[0.6666666666666666,\"#ed7953\"],[0.7777777777777778,\"#fb9f3a\"],[0.8888888888888888,\"#fdca26\"],[1.0,\"#f0f921\"]]}],\"choropleth\":[{\"type\":\"choropleth\",\"colorbar\":{\"outlinewidth\":0,\"ticks\":\"\"}}],\"histogram2d\":[{\"type\":\"histogram2d\",\"colorbar\":{\"outlinewidth\":0,\"ticks\":\"\"},\"colorscale\":[[0.0,\"#0d0887\"],[0.1111111111111111,\"#46039f\"],[0.2222222222222222,\"#7201a8\"],[0.3333333333333333,\"#9c179e\"],[0.4444444444444444,\"#bd3786\"],[0.5555555555555556,\"#d8576b\"],[0.6666666666666666,\"#ed7953\"],[0.7777777777777778,\"#fb9f3a\"],[0.8888888888888888,\"#fdca26\"],[1.0,\"#f0f921\"]]}],\"heatmap\":[{\"type\":\"heatmap\",\"colorbar\":{\"outlinewidth\":0,\"ticks\":\"\"},\"colorscale\":[[0.0,\"#0d0887\"],[0.1111111111111111,\"#46039f\"],[0.2222222222222222,\"#7201a8\"],[0.3333333333333333,\"#9c179e\"],[0.4444444444444444,\"#bd3786\"],[0.5555555555555556,\"#d8576b\"],[0.6666666666666666,\"#ed7953\"],[0.7777777777777778,\"#fb9f3a\"],[0.8888888888888888,\"#fdca26\"],[1.0,\"#f0f921\"]]}],\"heatmapgl\":[{\"type\":\"heatmapgl\",\"colorbar\":{\"outlinewidth\":0,\"ticks\":\"\"},\"colorscale\":[[0.0,\"#0d0887\"],[0.1111111111111111,\"#46039f\"],[0.2222222222222222,\"#7201a8\"],[0.3333333333333333,\"#9c179e\"],[0.4444444444444444,\"#bd3786\"],[0.5555555555555556,\"#d8576b\"],[0.6666666666666666,\"#ed7953\"],[0.7777777777777778,\"#fb9f3a\"],[0.8888888888888888,\"#fdca26\"],[1.0,\"#f0f921\"]]}],\"contourcarpet\":[{\"type\":\"contourcarpet\",\"colorbar\":{\"outlinewidth\":0,\"ticks\":\"\"}}],\"contour\":[{\"type\":\"contour\",\"colorbar\":{\"outlinewidth\":0,\"ticks\":\"\"},\"colorscale\":[[0.0,\"#0d0887\"],[0.1111111111111111,\"#46039f\"],[0.2222222222222222,\"#7201a8\"],[0.3333333333333333,\"#9c179e\"],[0.4444444444444444,\"#bd3786\"],[0.5555555555555556,\"#d8576b\"],[0.6666666666666666,\"#ed7953\"],[0.7777777777777778,\"#fb9f3a\"],[0.8888888888888888,\"#fdca26\"],[1.0,\"#f0f921\"]]}],\"surface\":[{\"type\":\"surface\",\"colorbar\":{\"outlinewidth\":0,\"ticks\":\"\"},\"colorscale\":[[0.0,\"#0d0887\"],[0.1111111111111111,\"#46039f\"],[0.2222222222222222,\"#7201a8\"],[0.3333333333333333,\"#9c179e\"],[0.4444444444444444,\"#bd3786\"],[0.5555555555555556,\"#d8576b\"],[0.6666666666666666,\"#ed7953\"],[0.7777777777777778,\"#fb9f3a\"],[0.8888888888888888,\"#fdca26\"],[1.0,\"#f0f921\"]]}],\"mesh3d\":[{\"type\":\"mesh3d\",\"colorbar\":{\"outlinewidth\":0,\"ticks\":\"\"}}],\"scatter\":[{\"fillpattern\":{\"fillmode\":\"overlay\",\"size\":10,\"solidity\":0.2},\"type\":\"scatter\"}],\"parcoords\":[{\"type\":\"parcoords\",\"line\":{\"colorbar\":{\"outlinewidth\":0,\"ticks\":\"\"}}}],\"scatterpolargl\":[{\"type\":\"scatterpolargl\",\"marker\":{\"colorbar\":{\"outlinewidth\":0,\"ticks\":\"\"}}}],\"bar\":[{\"error_x\":{\"color\":\"#2a3f5f\"},\"error_y\":{\"color\":\"#2a3f5f\"},\"marker\":{\"line\":{\"color\":\"#E5ECF6\",\"width\":0.5},\"pattern\":{\"fillmode\":\"overlay\",\"size\":10,\"solidity\":0.2}},\"type\":\"bar\"}],\"scattergeo\":[{\"type\":\"scattergeo\",\"marker\":{\"colorbar\":{\"outlinewidth\":0,\"ticks\":\"\"}}}],\"scatterpolar\":[{\"type\":\"scatterpolar\",\"marker\":{\"colorbar\":{\"outlinewidth\":0,\"ticks\":\"\"}}}],\"histogram\":[{\"marker\":{\"pattern\":{\"fillmode\":\"overlay\",\"size\":10,\"solidity\":0.2}},\"type\":\"histogram\"}],\"scattergl\":[{\"type\":\"scattergl\",\"marker\":{\"colorbar\":{\"outlinewidth\":0,\"ticks\":\"\"}}}],\"scatter3d\":[{\"type\":\"scatter3d\",\"line\":{\"colorbar\":{\"outlinewidth\":0,\"ticks\":\"\"}},\"marker\":{\"colorbar\":{\"outlinewidth\":0,\"ticks\":\"\"}}}],\"scattermapbox\":[{\"type\":\"scattermapbox\",\"marker\":{\"colorbar\":{\"outlinewidth\":0,\"ticks\":\"\"}}}],\"scatterternary\":[{\"type\":\"scatterternary\",\"marker\":{\"colorbar\":{\"outlinewidth\":0,\"ticks\":\"\"}}}],\"scattercarpet\":[{\"type\":\"scattercarpet\",\"marker\":{\"colorbar\":{\"outlinewidth\":0,\"ticks\":\"\"}}}],\"carpet\":[{\"aaxis\":{\"endlinecolor\":\"#2a3f5f\",\"gridcolor\":\"white\",\"linecolor\":\"white\",\"minorgridcolor\":\"white\",\"startlinecolor\":\"#2a3f5f\"},\"baxis\":{\"endlinecolor\":\"#2a3f5f\",\"gridcolor\":\"white\",\"linecolor\":\"white\",\"minorgridcolor\":\"white\",\"startlinecolor\":\"#2a3f5f\"},\"type\":\"carpet\"}],\"table\":[{\"cells\":{\"fill\":{\"color\":\"#EBF0F8\"},\"line\":{\"color\":\"white\"}},\"header\":{\"fill\":{\"color\":\"#C8D4E3\"},\"line\":{\"color\":\"white\"}},\"type\":\"table\"}],\"barpolar\":[{\"marker\":{\"line\":{\"color\":\"#E5ECF6\",\"width\":0.5},\"pattern\":{\"fillmode\":\"overlay\",\"size\":10,\"solidity\":0.2}},\"type\":\"barpolar\"}],\"pie\":[{\"automargin\":true,\"type\":\"pie\"}]},\"layout\":{\"autotypenumbers\":\"strict\",\"colorway\":[\"#636efa\",\"#EF553B\",\"#00cc96\",\"#ab63fa\",\"#FFA15A\",\"#19d3f3\",\"#FF6692\",\"#B6E880\",\"#FF97FF\",\"#FECB52\"],\"font\":{\"color\":\"#2a3f5f\"},\"hovermode\":\"closest\",\"hoverlabel\":{\"align\":\"left\"},\"paper_bgcolor\":\"white\",\"plot_bgcolor\":\"#E5ECF6\",\"polar\":{\"bgcolor\":\"#E5ECF6\",\"angularaxis\":{\"gridcolor\":\"white\",\"linecolor\":\"white\",\"ticks\":\"\"},\"radialaxis\":{\"gridcolor\":\"white\",\"linecolor\":\"white\",\"ticks\":\"\"}},\"ternary\":{\"bgcolor\":\"#E5ECF6\",\"aaxis\":{\"gridcolor\":\"white\",\"linecolor\":\"white\",\"ticks\":\"\"},\"baxis\":{\"gridcolor\":\"white\",\"linecolor\":\"white\",\"ticks\":\"\"},\"caxis\":{\"gridcolor\":\"white\",\"linecolor\":\"white\",\"ticks\":\"\"}},\"coloraxis\":{\"colorbar\":{\"outlinewidth\":0,\"ticks\":\"\"}},\"colorscale\":{\"sequential\":[[0.0,\"#0d0887\"],[0.1111111111111111,\"#46039f\"],[0.2222222222222222,\"#7201a8\"],[0.3333333333333333,\"#9c179e\"],[0.4444444444444444,\"#bd3786\"],[0.5555555555555556,\"#d8576b\"],[0.6666666666666666,\"#ed7953\"],[0.7777777777777778,\"#fb9f3a\"],[0.8888888888888888,\"#fdca26\"],[1.0,\"#f0f921\"]],\"sequentialminus\":[[0.0,\"#0d0887\"],[0.1111111111111111,\"#46039f\"],[0.2222222222222222,\"#7201a8\"],[0.3333333333333333,\"#9c179e\"],[0.4444444444444444,\"#bd3786\"],[0.5555555555555556,\"#d8576b\"],[0.6666666666666666,\"#ed7953\"],[0.7777777777777778,\"#fb9f3a\"],[0.8888888888888888,\"#fdca26\"],[1.0,\"#f0f921\"]],\"diverging\":[[0,\"#8e0152\"],[0.1,\"#c51b7d\"],[0.2,\"#de77ae\"],[0.3,\"#f1b6da\"],[0.4,\"#fde0ef\"],[0.5,\"#f7f7f7\"],[0.6,\"#e6f5d0\"],[0.7,\"#b8e186\"],[0.8,\"#7fbc41\"],[0.9,\"#4d9221\"],[1,\"#276419\"]]},\"xaxis\":{\"gridcolor\":\"white\",\"linecolor\":\"white\",\"ticks\":\"\",\"title\":{\"standoff\":15},\"zerolinecolor\":\"white\",\"automargin\":true,\"zerolinewidth\":2},\"yaxis\":{\"gridcolor\":\"white\",\"linecolor\":\"white\",\"ticks\":\"\",\"title\":{\"standoff\":15},\"zerolinecolor\":\"white\",\"automargin\":true,\"zerolinewidth\":2},\"scene\":{\"xaxis\":{\"backgroundcolor\":\"#E5ECF6\",\"gridcolor\":\"white\",\"linecolor\":\"white\",\"showbackground\":true,\"ticks\":\"\",\"zerolinecolor\":\"white\",\"gridwidth\":2},\"yaxis\":{\"backgroundcolor\":\"#E5ECF6\",\"gridcolor\":\"white\",\"linecolor\":\"white\",\"showbackground\":true,\"ticks\":\"\",\"zerolinecolor\":\"white\",\"gridwidth\":2},\"zaxis\":{\"backgroundcolor\":\"#E5ECF6\",\"gridcolor\":\"white\",\"linecolor\":\"white\",\"showbackground\":true,\"ticks\":\"\",\"zerolinecolor\":\"white\",\"gridwidth\":2}},\"shapedefaults\":{\"line\":{\"color\":\"#2a3f5f\"}},\"annotationdefaults\":{\"arrowcolor\":\"#2a3f5f\",\"arrowhead\":0,\"arrowwidth\":1},\"geo\":{\"bgcolor\":\"white\",\"landcolor\":\"#E5ECF6\",\"subunitcolor\":\"white\",\"showland\":true,\"showlakes\":true,\"lakecolor\":\"white\"},\"title\":{\"x\":0.05},\"mapbox\":{\"style\":\"light\"}}},\"mapbox\":{\"accesstoken\":\"pk.eyJ1IjoibWFhenVkZGluIiwiYSI6ImNsczR0MzNhMTA3YTgycm54cjF5OGsyMDEifQ.99LEvY6eNY8EHr8-SUjbLg\"},\"margin\":{\"r\":0,\"t\":0,\"l\":0,\"b\":0},\"showlegend\":false},                        {\"responsive\": true}                    ).then(function(){\n",
       "                            \n",
       "var gd = document.getElementById('a40fcddc-902a-41f1-b43d-05f4120a5168');\n",
       "var x = new MutationObserver(function (mutations, observer) {{\n",
       "        var display = window.getComputedStyle(gd).display;\n",
       "        if (!display || display === 'none') {{\n",
       "            console.log([gd, 'removed!']);\n",
       "            Plotly.purge(gd);\n",
       "            observer.disconnect();\n",
       "        }}\n",
       "}});\n",
       "\n",
       "// Listen for the removal of the full notebook cells\n",
       "var notebookContainer = gd.closest('#notebook-container');\n",
       "if (notebookContainer) {{\n",
       "    x.observe(notebookContainer, {childList: true});\n",
       "}}\n",
       "\n",
       "// Listen for the clearing of the current output cell\n",
       "var outputEl = gd.closest('.output');\n",
       "if (outputEl) {{\n",
       "    x.observe(outputEl, {childList: true});\n",
       "}}\n",
       "\n",
       "                        })                };                });            </script>        </div>"
      ]
     },
     "metadata": {},
     "output_type": "display_data"
    }
   ],
   "source": [
    "\n",
    "\n",
    "  # Loop until the run completes or requires action\n",
    "while True:\n",
    "    runStatus = client.beta.threads.runs.retrieve(thread_id=thread.id,\n",
    "                                                  run_id=run.id)\n",
    "    # Add run steps retrieval here for debuging\n",
    "    run_steps = client.beta.threads.runs.steps.list(thread_id=thread.id, run_id=run.id)\n",
    "    # show_json(\"Run Steps:\", run_steps)\n",
    "    print(runStatus.status ,'.....')\n",
    "\n",
    "    # This means run is making a function call   \n",
    "    if runStatus.status == \"requires_action\":\n",
    "        # print(runStatus.status ,'.....')\n",
    "        # print(\"Status: \", \"requires_action\")\n",
    "        # show_json(\"submit_tool_outputs\", runStatus.required_action)\n",
    "        if runStatus.required_action.submit_tool_outputs and runStatus.required_action.submit_tool_outputs.tool_calls:\n",
    "            # print(\"toolCalls present:\")\n",
    "            toolCalls = runStatus.required_action.submit_tool_outputs.tool_calls\n",
    "\n",
    "            tool_outputs = []\n",
    "            for toolcall in toolCalls:\n",
    "                function_name = toolcall.function.name\n",
    "                function_args = json.loads(toolcall.function.arguments)\n",
    "             \n",
    "                if function_name in available_functions:\n",
    "    \n",
    "                    function_to_call = available_functions[function_name]\n",
    "                    response = function_to_call(**function_args)\n",
    "                  \n",
    "                    tool_outputs.append({\n",
    "                              \"tool_call_id\": toolcall.id,\n",
    "                              \"output\": response\n",
    "                    })\n",
    "                    \n",
    "            # print(tool_outputs,\">>>>>\") \n",
    "            # Submit tool outputs and update the run\n",
    "            client.beta.threads.runs.submit_tool_outputs(\n",
    "                thread_id=thread.id,\n",
    "                run_id=run.id,\n",
    "                tool_outputs=tool_outputs)\n",
    "      \n",
    "    elif runStatus.status == \"completed\":\n",
    "        # List the messages to get the response\n",
    "        # print(\"completed...........logic\")\n",
    "        messages: list[ThreadMessage] = client.beta.threads.messages.list(thread_id=thread.id)\n",
    "        for message in messages.data:\n",
    "            role_label = \"User\" if message.role == \"user\" else \"Assistant\"\n",
    "            message_content = message.content[0].text.value\n",
    "            print(f\"{role_label}: {message_content}\\n\")\n",
    "\n",
    "        # print('showing map')\n",
    "        customMap.showMap()\n",
    "        break  # Exit the loop after processing the completed run\n",
    "        \n",
    "\n",
    "    elif run.status == \"failed\":\n",
    "      print(\"Run failed.\")\n",
    "      break\n",
    "\n",
    "    elif run.status in [\"in_progress\", \"queued\"]:\n",
    "      print(f\"Run is {run.status}. Waiting...\")\n",
    "      time.sleep(5)  # Wait for 5 seconds before checking again\n",
    "\n",
    "    else:\n",
    "      print(f\"Unexpected status: {run.status}\")\n",
    "      break\n",
    "\n"
   ]
  },
  {
   "cell_type": "code",
   "execution_count": 158,
   "metadata": {},
   "outputs": [],
   "source": [
    "# import plotly.graph_objects as go \n",
    "# from travel_map import TravelMap\n",
    "# suggestLocations:[dict] = [\n",
    "                           \n",
    "#     {\n",
    "#         \"name\":\"Perris\",\n",
    "#         'lat':33.7825194,\n",
    "#         'lon':-117.22864779999999,\n",
    "#     }\n",
    "# ]\n",
    "\n",
    "# mainLocation:dict = {\n",
    "#     \"name\":\"Marysville\",\n",
    "#     'lat':48.0517637,\n",
    "#     'lon':-122.1770818,\n",
    "# }\n",
    "\n",
    "# cmap = TravelMap()\n",
    "# cmap.updateMap(mainLocation, suggestLocations)\n",
    "# cmap.showMap()\n",
    "# lat = [sl['lat'] for sl in suggestLocations if \"lat\" in sl]\n",
    "# lon = [sl['lon'] for sl in suggestLocations if \"lon\" in sl]\n",
    "# name = [sl['name'] for sl in suggestLocations if 'name' in sl]\n",
    "\n",
    "# print(lat)\n",
    "# print(lon)\n",
    "# print(name)\n",
    "\n",
    "# fig = go.Figure(go.Scattermapbox(\n",
    "#     # df=mapData,\n",
    "#     mode = \"markers\",\n",
    "#     lon = lon, lat = lat,\n",
    "#     hovertext=name,\n",
    "#     marker=dict(\n",
    "#         color='red',\n",
    "#         size=10,\n",
    "    \n",
    "#     ),\n",
    "#     textposition = \"bottom right\"))\n",
    "\n",
    "# fig.update_layout(\n",
    "#     mapbox = {\n",
    "#         'zoom':15,\n",
    "#         'accesstoken': MAPBOX_TOKEN,\n",
    "#         'style': \"outdoors\",\n",
    "#         \"center\":{'lat': mainLocation['lat'], 'lon': mainLocation['lon']}\n",
    "        \n",
    "#         },\n",
    "#     showlegend = False)\n",
    "# fig.update_layout(margin={\"r\":0,\"t\":0,\"l\":0,\"b\":0})\n",
    "# fig.update_traces(marker_color='red', selector=dict(type='scattermapbox'))\n",
    "# # print(fig.show)\n",
    "# fig.show()"
   ]
  },
  {
   "cell_type": "code",
   "execution_count": null,
   "metadata": {},
   "outputs": [],
   "source": []
  }
 ],
 "metadata": {
  "kernelspec": {
   "display_name": "travel_assistant",
   "language": "python",
   "name": "python3"
  },
  "language_info": {
   "codemirror_mode": {
    "name": "ipython",
    "version": 3
   },
   "file_extension": ".py",
   "mimetype": "text/x-python",
   "name": "python",
   "nbconvert_exporter": "python",
   "pygments_lexer": "ipython3",
   "version": "3.12.1"
  }
 },
 "nbformat": 4,
 "nbformat_minor": 2
}
