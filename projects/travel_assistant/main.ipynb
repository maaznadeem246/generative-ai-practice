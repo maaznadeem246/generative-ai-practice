{
 "cells": [
  {
   "cell_type": "code",
   "execution_count": 1,
   "metadata": {},
   "outputs": [],
   "source": [
    "from openai import OpenAI\n",
    "\n",
    "\n",
    "\n",
    "client:OpenAI = OpenAI()"
   ]
  },
  {
   "cell_type": "code",
   "execution_count": null,
   "metadata": {},
   "outputs": [],
   "source": [
    "def travel_map():\n",
    "    print"
   ]
  },
  {
   "cell_type": "code",
   "execution_count": 2,
   "metadata": {},
   "outputs": [],
   "source": [
    "# creating assistant\n",
    "\n",
    "assistant = client.beta.assistants.create(\n",
    "    name=\"Travel Assistant\",\n",
    "    instructions=\"\"\"\n",
    "        you are a experienced travel assiatant, you suggest the user best places at location which is provided by the user\n",
    "        you will be suggesting user by calling a custom map function 'travel_map'\n",
    "        \n",
    "    \"\"\"\n",
    "    model=\"gpt-3.5-turbo-1106\"\n",
    "    tools=[\n",
    "        {\n",
    "            \"type\":'function',\n",
    "            \"function\":{\n",
    "                \"name\":\"travel_map\",\n",
    "\n",
    "            }\n",
    "        }\n",
    "    ]\n",
    ")"
   ]
  },
  {
   "cell_type": "code",
   "execution_count": null,
   "metadata": {},
   "outputs": [],
   "source": []
  }
 ],
 "metadata": {
  "kernelspec": {
   "display_name": "travel_assistant",
   "language": "python",
   "name": "python3"
  },
  "language_info": {
   "codemirror_mode": {
    "name": "ipython",
    "version": 3
   },
   "file_extension": ".py",
   "mimetype": "text/x-python",
   "name": "python",
   "nbconvert_exporter": "python",
   "pygments_lexer": "ipython3",
   "version": "3.11.7"
  }
 },
 "nbformat": 4,
 "nbformat_minor": 2
}
