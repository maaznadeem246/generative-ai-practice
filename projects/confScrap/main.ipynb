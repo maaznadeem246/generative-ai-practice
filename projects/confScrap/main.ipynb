{
 "cells": [
  {
   "cell_type": "code",
   "execution_count": 3,
   "metadata": {},
   "outputs": [],
   "source": [
    "from openai import OpenAI\n",
    "\n",
    "client : OpenAI = OpenAI()"
   ]
  },
  {
   "cell_type": "code",
   "execution_count": 25,
   "metadata": {},
   "outputs": [],
   "source": [
    "from openai.types.chat.chat_completion import ChatCompletion\n",
    "\n",
    "def chat_completion(prompt:str):\n",
    "    response : ChatCompletion = client.chat.completions.create(\n",
    "        response_format={ \"type\": \"json_object\" },\n",
    "        messages=[\n",
    "            {\n",
    "                \"role\":'system',\n",
    "                \"content\":f\"\"\"\n",
    "                    you job is to collect talk and speaker data (optional) for educationl purposes but always create a object in list\n",
    "                    \n",
    "                    url below in delimiter \n",
    "                    `{prompt}`\n",
    "\n",
    "                    object data keys below \n",
    "                    talk name (required) \n",
    "                    talk url (required)\n",
    "                    speaker name (optional)\n",
    "                    speaker twiter(x) ID (optional)\n",
    "                    linkedIn ID (optional)\n",
    "\n",
    "                    results should be in list of objects\n",
    "                    i need complete data, any key can be null, take your time but object should be created for every single talk\n",
    "                    also check created list count is equal to 6\n",
    "                    you are designed to OUTPUT in  JSON\n",
    "                \"\"\"\n",
    "            },\n",
    "        ],\n",
    "        # temperature=0.7,\n",
    "        # max_tokens=500,\n",
    "       \"gpt-3.5-turbo-1106\",\n",
    "    )\n",
    "    # print(response)\n",
    "    return response.choices[0].message.content\n",
    "    \n",
    "data = chat_completion('https://portal.gitnation.org/events/react-day-berlin-2023')"
   ]
  },
  {
   "cell_type": "code",
   "execution_count": 26,
   "metadata": {},
   "outputs": [
    {
     "name": "stdout",
     "output_type": "stream",
     "text": [
      "{\n",
      "    \"talks\": [\n",
      "        {\n",
      "            \"talk_name\": \"The State of React in 2023\",\n",
      "            \"talk_url\": \"https://portal.gitnation.org/events/react-day-berlin-2023/talk/the-state-of-react-in-2023\",\n",
      "            \"speaker_name\": \"John Smith\",\n",
      "            \"speaker_twitter_id\": \"@johnsmith\",\n",
      "            \"linkedin_id\": \"johnsmith\"\n",
      "        },\n",
      "        {\n",
      "            \"talk_name\": \"React Hooks: Best Practices\",\n",
      "            \"talk_url\": \"https://portal.gitnation.org/events/react-day-berlin-2023/talk/react-hooks-best-practices\",\n",
      "            \"speaker_name\": \"Emily Johnson\",\n",
      "            \"speaker_twitter_id\": \"@emilyjohnson\",\n",
      "            \"linkedin_id\": \"emilyjohnson\"\n",
      "        },\n",
      "        {\n",
      "            \"talk_name\": \"Building Accessible React Applications\",\n",
      "            \"talk_url\": \"https://portal.gitnation.org/events/react-day-berlin-2023/talk/building-accessible-react-applications\",\n",
      "            \"speaker_name\": \"David Lee\",\n",
      "            \"speaker_twitter_id\": \"@davidlee\",\n",
      "            \"linkedin_id\": \"davidlee\"\n",
      "        },\n",
      "        {\n",
      "            \"talk_name\": \"Optimizing Performance in React Apps\",\n",
      "            \"talk_url\": \"https://portal.gitnation.org/events/react-day-berlin-2023/talk/optimizing-performance-in-react-apps\",\n",
      "            \"speaker_name\": \"Sophia Chen\",\n",
      "            \"speaker_twitter_id\": \"@sophiachen\",\n",
      "            \"linkedin_id\": \"sophiachen\"\n",
      "        },\n",
      "        {\n",
      "            \"talk_name\": \"Server-Side Rendering with React\",\n",
      "            \"talk_url\": \"https://portal.gitnation.org/events/react-day-berlin-2023/talk/server-side-rendering-with-react\",\n",
      "            \"speaker_name\": \"Michael Davis\",\n",
      "            \"speaker_twitter_id\": \"@michaeldavis\",\n",
      "            \"linkedin_id\": \"michaeldavis\"\n",
      "        },\n",
      "        {\n",
      "            \"talk_name\": \"State Management in React: A Deep Dive\",\n",
      "            \"talk_url\": \"https://portal.gitnation.org/events/react-day-berlin-2023/talk/state-management-in-react-a-deep-dive\",\n",
      "            \"speaker_name\": \"Sarah Thompson\",\n",
      "            \"speaker_twitter_id\": \"@sarahthompson\",\n",
      "            \"linkedin_id\": \"sarahthompson\"\n",
      "        }\n",
      "    ]\n",
      "}\n"
     ]
    }
   ],
   "source": [
    "print(data)"
   ]
  },
  {
   "cell_type": "code",
   "execution_count": 22,
   "metadata": {},
   "outputs": [
    {
     "name": "stdout",
     "output_type": "stream",
     "text": [
      "6\n"
     ]
    }
   ],
   "source": [
    "import json\n",
    "\n",
    "parsedData = dict(json.loads(data))\n",
    "\n",
    "print(len(parsedData['talks']))"
   ]
  },
  {
   "cell_type": "code",
   "execution_count": null,
   "metadata": {},
   "outputs": [],
   "source": []
  }
 ],
 "metadata": {
  "kernelspec": {
   "display_name": "travel_assistant",
   "language": "python",
   "name": "python3"
  },
  "language_info": {
   "codemirror_mode": {
    "name": "ipython",
    "version": 3
   },
   "file_extension": ".py",
   "mimetype": "text/x-python",
   "name": "python",
   "nbconvert_exporter": "python",
   "pygments_lexer": "ipython3",
   "version": "3.11.7"
  }
 },
 "nbformat": 4,
 "nbformat_minor": 2
}
