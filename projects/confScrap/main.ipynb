{
 "cells": [
  {
   "cell_type": "code",
   "execution_count": 3,
   "metadata": {},
   "outputs": [],
   "source": [
    "from openai import OpenAI\n",
    "\n",
    "client : OpenAI = OpenAI()"
   ]
  },
  {
   "cell_type": "code",
   "execution_count": 4,
   "metadata": {},
   "outputs": [],
   "source": [
    "from openai.types.chat.chat_completion import ChatCompletion\n",
    "\n",
    "def chat_completion(prompt:str):\n",
    "    response : ChatCompletion = client.chat.completions.create(\n",
    "        response_format={ \"type\": \"json_object\" },\n",
    "        messages=[\n",
    "            {\n",
    "                \"role\":'system',\n",
    "                \"content\":f\"\"\"\n",
    "                    you job is to collect talk and speaker data (optional) for educationl purposes but always create a object in list url can be conference talk website url and youtube playlist url\n",
    "                    url below in delimiter \n",
    "                    `{prompt}`\n",
    "\n",
    "                    object data keys below \n",
    "                    talk name (required) \n",
    "                    talk url (required)\n",
    "                    speaker name (optional)\n",
    "                    speaker twiter(x) ID (optional)\n",
    "                    linkedIn ID (optional)\n",
    "\n",
    "                    results should be in list of objects\n",
    "                    i need complete data, any key can be null, take your time but object should be created for every single talk\n",
    "                    also check created list count is equal to 6\n",
    "                    you are designed to OUTPUT in  JSON\n",
    "                \"\"\"\n",
    "            },\n",
    "        ],\n",
    "        # temperature=0.7,\n",
    "        # max_tokens=500,\n",
    "        model=\"gpt-3.5-turbo-1106\",\n",
    "    )\n",
    "    # print(response)\n",
    "    return response.choices[0].message.content\n",
    "    \n",
    "data = chat_completion('https://portal.gitnation.org/events/react-day-berlin-2023')"
   ]
  },
  {
   "cell_type": "code",
   "execution_count": 5,
   "metadata": {},
   "outputs": [
    {
     "name": "stdout",
     "output_type": "stream",
     "text": [
      "{\n",
      "    \"talks\": [\n",
      "        {\n",
      "            \"talk name\": \"Building Accessible React Apps\",\n",
      "            \"talk url\": \"https://www.youtube.com/watch?v=abc123\",\n",
      "            \"speaker name\": \"John Smith\",\n",
      "            \"speaker twiter ID\": \"johnsmith123\",\n",
      "            \"linkedIn ID\": \"johnsmith\"\n",
      "        },\n",
      "        {\n",
      "            \"talk name\": \"Scaling React Applications\",\n",
      "            \"talk url\": \"https://www.youtube.com/watch?v=def456\",\n",
      "            \"speaker name\": \"Jane Doe\",\n",
      "            \"speaker twiter ID\": null,\n",
      "            \"linkedIn ID\": \"janedoe\"\n",
      "        },\n",
      "        {\n",
      "            \"talk name\": \"React State Management Best Practices\",\n",
      "            \"talk url\": \"https://www.youtube.com/watch?v=ghi789\",\n",
      "            \"speaker name\": \"Alex Johnson\",\n",
      "            \"speaker twiter ID\": \"alexj123\",\n",
      "            \"linkedIn ID\": null\n",
      "        },\n",
      "        {\n",
      "            \"talk name\": \"Testing React Components\",\n",
      "            \"talk url\": \"https://www.youtube.com/watch?v=jkl012\",\n",
      "            \"speaker name\": \"Emily Brown\",\n",
      "            \"speaker twiter ID\": null,\n",
      "            \"linkedIn ID\": \"emilybrown\"\n",
      "        },\n",
      "        {\n",
      "            \"talk name\": \"React Performance Optimization\",\n",
      "            \"talk url\": \"https://www.youtube.com/watch?v=mno345\",\n",
      "            \"speaker name\": \"Michael Davis\",\n",
      "            \"speaker twiter ID\": \"michaeld_87\",\n",
      "            \"linkedIn ID\": \"michaeldavis\"\n",
      "        },\n",
      "        {\n",
      "            \"talk name\": \"Future of React: Keynote Address\",\n",
      "            \"talk url\": \"https://www.youtube.com/watch?v=pqr678\",\n",
      "            \"speaker name\": \"Sarah Johnson\",\n",
      "            \"speaker twiter ID\": \"sarahj89\",\n",
      "            \"linkedIn ID\": \"sarahjohnson\"\n",
      "        }\n",
      "    ]\n",
      "}\n"
     ]
    }
   ],
   "source": [
    "print(data)"
   ]
  },
  {
   "cell_type": "code",
   "execution_count": 22,
   "metadata": {},
   "outputs": [
    {
     "name": "stdout",
     "output_type": "stream",
     "text": [
      "6\n"
     ]
    }
   ],
   "source": [
    "import json\n",
    "\n",
    "parsedData = dict(json.loads(data))\n",
    "\n",
    "print(len(parsedData['talks']))"
   ]
  },
  {
   "cell_type": "code",
   "execution_count": null,
   "metadata": {},
   "outputs": [],
   "source": []
  }
 ],
 "metadata": {
  "kernelspec": {
   "display_name": "travel_assistant",
   "language": "python",
   "name": "python3"
  },
  "language_info": {
   "codemirror_mode": {
    "name": "ipython",
    "version": 3
   },
   "file_extension": ".py",
   "mimetype": "text/x-python",
   "name": "python",
   "nbconvert_exporter": "python",
   "pygments_lexer": "ipython3",
   "version": "3.11.7"
  }
 },
 "nbformat": 4,
 "nbformat_minor": 2
}
